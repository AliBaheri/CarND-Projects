{
 "cells": [
  {
   "cell_type": "code",
   "execution_count": 4,
   "metadata": {
    "collapsed": false
   },
   "outputs": [],
   "source": [
    "import os\n",
    "from tqdm import tqdm, tqdm_notebook\n",
    "import numpy as np\n",
    "import pandas as pd\n",
    "from scipy.misc import imread\n",
    "import matplotlib.pyplot as plt\n",
    "\n",
    "import tensorflow as tf\n",
    "from tensorflow.python.ops import control_flow_ops\n",
    "tf.python.control_flow_ops = control_flow_ops\n",
    "\n",
    "from keras.models import Sequential, Model\n",
    "from keras.layers import Dense, Activation, Input\n",
    "from keras.layers import Convolution2D, MaxPooling2D, Flatten, Dropout\n",
    "from keras.applications.vgg16 import VGG16\n",
    "from keras.optimizers import SGD, Adam, RMSprop\n",
    "from keras.layers.normalization import BatchNormalization\n",
    "from sklearn.model_selection import train_test_split"
   ]
  },
  {
   "cell_type": "code",
   "execution_count": 2,
   "metadata": {
    "collapsed": true
   },
   "outputs": [],
   "source": [
    "data_path = './driving-data/'\n",
    "img_rows, img_cols = 160, 320"
   ]
  },
  {
   "cell_type": "code",
   "execution_count": 5,
   "metadata": {
    "collapsed": true
   },
   "outputs": [],
   "source": [
    "def load_data():\n",
    "    columns = ['center', 'left', 'right', 'steering', 'throttle', 'brake', 'speed']\n",
    "\n",
    "    print('Loading driving log ...')\n",
    "\n",
    "    driving_log = pd.read_csv(data_path+'driving_log.csv', names=columns)\n",
    "    num_rows = len(driving_log.index)\n",
    "\n",
    "    train_images = np.zeros((num_rows, img_rows, img_cols, 3))\n",
    "    train_steering = driving_log.as_matrix(['steering'])\n",
    "\n",
    "    for index, row in tqdm_notebook(driving_log.iterrows(), unit=' rows', total=num_rows):\n",
    "        fname = os.path.basename(row['center'])\n",
    "        # Normalized YUV\n",
    "        train_images[index] = imread(data_path+'IMG/'+fname, False, 'YCbCr')/255.\n",
    "\n",
    "    print('Loaded', num_rows, 'rows.')\n",
    "    return train_images, train_steering"
   ]
  },
  {
   "cell_type": "code",
   "execution_count": 6,
   "metadata": {
    "collapsed": false
   },
   "outputs": [
    {
     "name": "stdout",
     "output_type": "stream",
     "text": [
      "Loading driving log ...\n",
      "\n",
      "Loaded 3685 rows.\n"
     ]
    }
   ],
   "source": [
    "X_train, y_train = load_data()\n",
    "X_train, X_val, y_train, y_val = train_test_split(X_train, y_train, test_size=0.20, random_state=0)"
   ]
  },
  {
   "cell_type": "code",
   "execution_count": 8,
   "metadata": {
    "collapsed": false
   },
   "outputs": [
    {
     "data": {
      "image/png": "[encoded data removed]",
      "text/plain": [
       "<matplotlib.figure.Figure at 0x7faba4c452e8>"
      ]
     },
     "metadata": {},
     "output_type": "display_data"
    }
   ],
   "source": [
    "plt.plot(y_train[:100])\n",
    "plt.show()"
   ]
  },
  {
   "cell_type": "code",
   "execution_count": 15,
   "metadata": {
    "collapsed": true
   },
   "outputs": [],
   "source": [
    "model = Sequential()\n",
    "model.add(Convolution2D(32, 5, 5,border_mode='valid',\n",
    "                        input_shape=(img_rows, img_cols, 3)))\n",
    "model.add(BatchNormalization())\n",
    "model.add(Activation('sigmoid'))\n",
    "model.add(MaxPooling2D((4,4)))\n",
    "\n",
    "model.add(Convolution2D(64, 3, 3, subsample=(2,2)))\n",
    "model.add(BatchNormalization())\n",
    "model.add(Activation('sigmoid'))\n",
    "model.add(MaxPooling2D((2,2)))\n",
    "model.add(Dropout(0.5))\n",
    "\n",
    "model.add(Flatten())\n",
    "model.add(Dense(128))\n",
    "model.add(BatchNormalization())\n",
    "model.add(Activation('sigmoid'))\n",
    "model.add(Dense(512))\n",
    "model.add(BatchNormalization())\n",
    "model.add(Activation('sigmoid'))\n",
    "model.add(Dense(1))"
   ]
  },
  {
   "cell_type": "code",
   "execution_count": 16,
   "metadata": {
    "collapsed": false
   },
   "outputs": [
    {
     "name": "stdout",
     "output_type": "stream",
     "text": [
      "Compiling model ...\n"
     ]
    }
   ],
   "source": [
    "model.compile('adam', 'mse', metrics=['accuracy'])"
   ]
  },
  {
   "cell_type": "code",
   "execution_count": null,
   "metadata": {
    "collapsed": false
   },
   "outputs": [
    {
     "name": "stdout",
     "output_type": "stream",
     "text": [
      "Train on 2948 samples, validate on 737 samples\n",
      "Epoch 1/10\n",
      "2948/2948 [==============================] - 13s - loss: 0.0333 - acc: 0.2802 - val_loss: 0.0126 - val_acc: 0.2836\n",
      "Epoch 2/10\n",
      "2948/2948 [==============================] - 13s - loss: 0.0149 - acc: 0.2832 - val_loss: 0.0105 - val_acc: 0.2836\n",
      "Epoch 3/10\n",
      "2948/2948 [==============================] - 13s - loss: 0.0151 - acc: 0.2832 - val_loss: 0.0102 - val_acc: 0.2836\n",
      "Epoch 4/10\n",
      "2948/2948 [==============================] - 13s - loss: 0.0101 - acc: 0.2832 - val_loss: 0.0108 - val_acc: 0.2836\n",
      "Epoch 5/10\n",
      "2944/2948 [============================>.] - ETA: 0s - loss: 0.0091 - acc: 0.2833"
     ]
    }
   ],
   "source": [
    "h = model.fit(X_train, y_train, batch_size=32, nb_epoch=10,\n",
    "    validation_data=(X_val, y_val), verbose=1, shuffle=True)"
   ]
  },
  {
   "cell_type": "code",
   "execution_count": 14,
   "metadata": {
    "collapsed": false
   },
   "outputs": [
    {
     "data": {
      "text/plain": [
       "array([[ 0.00779052, -0.00427218],\n",
       "       [ 0.04612364,  0.05894623],\n",
       "       [ 0.00140466,  0.        ],\n",
       "       ..., \n",
       "       [-0.07747142, -0.01977101],\n",
       "       [ 0.16216035,  0.06346763],\n",
       "       [ 0.0027311 ,  0.05306841]])"
      ]
     },
     "execution_count": 14,
     "metadata": {},
     "output_type": "execute_result"
    }
   ],
   "source": [
    "y_pred = model.predict(X_val, batch_size=16)\n",
    "np.hstack((y_pred, y_val))"
   ]
  },
  {
   "cell_type": "code",
   "execution_count": null,
   "metadata": {
    "collapsed": true
   },
   "outputs": [],
   "source": [
    "model_json = model.to_json()\n",
    "with open(\"my_model.json\", \"w\") as json_file:\n",
    "    json_file.write(model_json)\n",
    "\n",
    "model.save_weights('my_model.h5')"
   ]
  }
 ],
 "metadata": {
  "anaconda-cloud": {},
  "kernelspec": {
   "display_name": "Python [conda root]",
   "language": "python",
   "name": "conda-root-py"
  },
  "language_info": {
   "codemirror_mode": {
    "name": "ipython",
    "version": 3
   },
   "file_extension": ".py",
   "mimetype": "text/x-python",
   "name": "python",
   "nbconvert_exporter": "python",
   "pygments_lexer": "ipython3",
   "version": "3.5.2"
  },
  "widgets": {
   "state": {
    "6172d68d89624a8b9b2c0c59a8cafaeb": {
     "views": [
      {
       "cell_index": 3
      }
     ]
    }
   },
   "version": "1.2.0"
  }
 },
 "nbformat": 4,
 "nbformat_minor": 1
}
